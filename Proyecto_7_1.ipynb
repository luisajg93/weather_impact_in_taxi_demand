{
 "cells": [
  {
   "cell_type": "markdown",
   "id": "91485d2e-2623-42e4-8e3f-46a188207195",
   "metadata": {},
   "source": [
    "# Proyecto 7\n",
    "\n",
    "## Descripción del proyecto\n",
    "\n",
    "Estás trabajando como analista para Zuber, una nueva empresa de viajes compartidos que se está lanzando en Chicago. Tu tarea es encontrar patrones en la información disponible. Quieres comprender las preferencias de los pasajeros y el impacto de los factores externos en los viajes.\n",
    "\n",
    "Al trabajar con una base de datos, analizarás los datos de los competidores y probarás una hipótesis sobre el impacto del clima en la frecuencia de los viajes."
   ]
  },
  {
   "cell_type": "markdown",
   "id": "62c27c54-2e0e-4bc0-9f07-19fd8b2693dd",
   "metadata": {},
   "source": [
    "## Objetivos:\n",
    "\n",
    "- Importar los archivos\n",
    "- Estudiar los datos que contienen\n",
    "- Asegurar que los tipos de datos sean correctos\n",
    "- Identificar los 10 principales barrios en términos de finalización del recorrido\n",
    "- Hacer gráficos: empresas de taxis y número de viajes, los 10 barrios principales por número de finalizaciones\n",
    "- Sacar conclusiones basadas en cada gráfico y explicar los resultados\n",
    "- Realizar prueba de hipótesis: \"La duración promedio de los viajes desde el Loop hasta el Aeropuerto Internacional O'Hare cambia los sábados lluviosos\"."
   ]
  },
  {
   "cell_type": "markdown",
   "id": "878ab550-ca9e-4f40-9634-c40899227000",
   "metadata": {},
   "source": [
    "## Análisis exploratorio de datos"
   ]
  },
  {
   "cell_type": "markdown",
   "id": "8c1f700f-39fd-4d8a-bbdd-dead0d30780f",
   "metadata": {},
   "source": [
    "### Importar los archivos"
   ]
  },
  {
   "cell_type": "code",
   "execution_count": 1,
   "id": "c5f54b1a-aac3-4dd1-8b6e-9784a5359c5a",
   "metadata": {},
   "outputs": [],
   "source": [
    "# Importación de librerías\n",
    "\n",
    "import pandas as pd\n",
    "import numpy as np\n",
    "from matplotlib import pyplot as plt\n",
    "import seaborn as sns\n",
    "from scipy import stats as st"
   ]
  },
  {
   "cell_type": "code",
   "execution_count": 2,
   "id": "333984f1-fdb0-4c74-a004-f0617327fed5",
   "metadata": {},
   "outputs": [],
   "source": [
    "# Importación de archivos\n",
    "\n",
    "# dataframe con viajes realizados y nombres de compañías de taxis\n",
    "company_trips = pd.read_csv(\"/datasets/project_sql_result_01.csv\")\n",
    "\n",
    "# dataframe con localizaciones donde finalizaron viajes y el promedio de esos viajes\n",
    "dropoff_trips = pd.read_csv(\"/datasets/project_sql_result_04.csv\")\n",
    "\n",
    "# dataframe con datos meteorológicos y fechas, para la prueba de hipótesis\n",
    "df_hyp = pd.read_csv(\"/datasets/project_sql_result_07.csv\")"
   ]
  },
  {
   "cell_type": "markdown",
   "id": "3ff0c22d-3a4e-42f7-9281-9bcc5fd9b63c",
   "metadata": {},
   "source": [
    "### Exploración y corrección de datos"
   ]
  },
  {
   "cell_type": "code",
   "execution_count": 3,
   "id": "4586cae5-b053-431e-8f39-73165b1cb4b4",
   "metadata": {},
   "outputs": [
    {
     "name": "stdout",
     "output_type": "stream",
     "text": [
      "<class 'pandas.core.frame.DataFrame'>\n",
      "RangeIndex: 64 entries, 0 to 63\n",
      "Data columns (total 2 columns):\n",
      " #   Column        Non-Null Count  Dtype \n",
      "---  ------        --------------  ----- \n",
      " 0   company_name  64 non-null     object\n",
      " 1   trips_amount  64 non-null     int64 \n",
      "dtypes: int64(1), object(1)\n",
      "memory usage: 1.1+ KB\n"
     ]
    }
   ],
   "source": [
    "# Información y visualización de dataframes\n",
    "\n",
    "company_trips.info()"
   ]
  },
  {
   "cell_type": "code",
   "execution_count": 4,
   "id": "7a9bd0ab-200b-4053-bb9c-be84831a1dea",
   "metadata": {},
   "outputs": [
    {
     "data": {
      "text/html": [
       "<div>\n",
       "<style scoped>\n",
       "    .dataframe tbody tr th:only-of-type {\n",
       "        vertical-align: middle;\n",
       "    }\n",
       "\n",
       "    .dataframe tbody tr th {\n",
       "        vertical-align: top;\n",
       "    }\n",
       "\n",
       "    .dataframe thead th {\n",
       "        text-align: right;\n",
       "    }\n",
       "</style>\n",
       "<table border=\"1\" class=\"dataframe\">\n",
       "  <thead>\n",
       "    <tr style=\"text-align: right;\">\n",
       "      <th></th>\n",
       "      <th>company_name</th>\n",
       "      <th>trips_amount</th>\n",
       "    </tr>\n",
       "  </thead>\n",
       "  <tbody>\n",
       "    <tr>\n",
       "      <th>0</th>\n",
       "      <td>Flash Cab</td>\n",
       "      <td>19558</td>\n",
       "    </tr>\n",
       "    <tr>\n",
       "      <th>1</th>\n",
       "      <td>Taxi Affiliation Services</td>\n",
       "      <td>11422</td>\n",
       "    </tr>\n",
       "    <tr>\n",
       "      <th>2</th>\n",
       "      <td>Medallion Leasing</td>\n",
       "      <td>10367</td>\n",
       "    </tr>\n",
       "    <tr>\n",
       "      <th>3</th>\n",
       "      <td>Yellow Cab</td>\n",
       "      <td>9888</td>\n",
       "    </tr>\n",
       "    <tr>\n",
       "      <th>4</th>\n",
       "      <td>Taxi Affiliation Service Yellow</td>\n",
       "      <td>9299</td>\n",
       "    </tr>\n",
       "  </tbody>\n",
       "</table>\n",
       "</div>"
      ],
      "text/plain": [
       "                      company_name  trips_amount\n",
       "0                        Flash Cab         19558\n",
       "1        Taxi Affiliation Services         11422\n",
       "2                Medallion Leasing         10367\n",
       "3                       Yellow Cab          9888\n",
       "4  Taxi Affiliation Service Yellow          9299"
      ]
     },
     "execution_count": 4,
     "metadata": {},
     "output_type": "execute_result"
    }
   ],
   "source": [
    "company_trips.head()"
   ]
  },
  {
   "cell_type": "markdown",
   "id": "287b27fb-e15a-4951-8ed8-fb4bfc89d41e",
   "metadata": {},
   "source": [
    "**Comentario:**\n",
    "\n",
    "<span style='color:green'> No hay datos ausentes en este dataframe, los tipos de datos son adecuados. </span>"
   ]
  },
  {
   "cell_type": "code",
   "execution_count": 5,
   "id": "42809ce0-c091-4673-aa4e-e2ef52ed4137",
   "metadata": {},
   "outputs": [
    {
     "name": "stdout",
     "output_type": "stream",
     "text": [
      "<class 'pandas.core.frame.DataFrame'>\n",
      "RangeIndex: 94 entries, 0 to 93\n",
      "Data columns (total 2 columns):\n",
      " #   Column                 Non-Null Count  Dtype  \n",
      "---  ------                 --------------  -----  \n",
      " 0   dropoff_location_name  94 non-null     object \n",
      " 1   average_trips          94 non-null     float64\n",
      "dtypes: float64(1), object(1)\n",
      "memory usage: 1.6+ KB\n"
     ]
    }
   ],
   "source": [
    "dropoff_trips.info()"
   ]
  },
  {
   "cell_type": "code",
   "execution_count": 6,
   "id": "10d9820f-5659-4490-80d4-b3305d151beb",
   "metadata": {},
   "outputs": [
    {
     "data": {
      "text/html": [
       "<div>\n",
       "<style scoped>\n",
       "    .dataframe tbody tr th:only-of-type {\n",
       "        vertical-align: middle;\n",
       "    }\n",
       "\n",
       "    .dataframe tbody tr th {\n",
       "        vertical-align: top;\n",
       "    }\n",
       "\n",
       "    .dataframe thead th {\n",
       "        text-align: right;\n",
       "    }\n",
       "</style>\n",
       "<table border=\"1\" class=\"dataframe\">\n",
       "  <thead>\n",
       "    <tr style=\"text-align: right;\">\n",
       "      <th></th>\n",
       "      <th>dropoff_location_name</th>\n",
       "      <th>average_trips</th>\n",
       "    </tr>\n",
       "  </thead>\n",
       "  <tbody>\n",
       "    <tr>\n",
       "      <th>0</th>\n",
       "      <td>Loop</td>\n",
       "      <td>10727.466667</td>\n",
       "    </tr>\n",
       "    <tr>\n",
       "      <th>1</th>\n",
       "      <td>River North</td>\n",
       "      <td>9523.666667</td>\n",
       "    </tr>\n",
       "    <tr>\n",
       "      <th>2</th>\n",
       "      <td>Streeterville</td>\n",
       "      <td>6664.666667</td>\n",
       "    </tr>\n",
       "    <tr>\n",
       "      <th>3</th>\n",
       "      <td>West Loop</td>\n",
       "      <td>5163.666667</td>\n",
       "    </tr>\n",
       "    <tr>\n",
       "      <th>4</th>\n",
       "      <td>O'Hare</td>\n",
       "      <td>2546.900000</td>\n",
       "    </tr>\n",
       "  </tbody>\n",
       "</table>\n",
       "</div>"
      ],
      "text/plain": [
       "  dropoff_location_name  average_trips\n",
       "0                  Loop   10727.466667\n",
       "1           River North    9523.666667\n",
       "2         Streeterville    6664.666667\n",
       "3             West Loop    5163.666667\n",
       "4                O'Hare    2546.900000"
      ]
     },
     "execution_count": 6,
     "metadata": {},
     "output_type": "execute_result"
    }
   ],
   "source": [
    "dropoff_trips.head()"
   ]
  },
  {
   "cell_type": "markdown",
   "id": "ff0053c6-44cd-46de-81bd-bd8624697a8f",
   "metadata": {},
   "source": [
    "**Comentario:**\n",
    "\n",
    "\n",
    "<span style='color:green'> No hay datos ausentes en este dataframe. </span>\n",
    "\n",
    "<span style='color:orange'> Los tipos de datos no son adecuados en la columna 'average_trips'. </span> <span style='color:blue'> Se cambiarán a datos enteros, redondeando al entero más cercano. </span>"
   ]
  },
  {
   "cell_type": "code",
   "execution_count": 7,
   "id": "b536964a-e298-4b16-b428-048e34639873",
   "metadata": {},
   "outputs": [
    {
     "name": "stdout",
     "output_type": "stream",
     "text": [
      "<class 'pandas.core.frame.DataFrame'>\n",
      "RangeIndex: 1068 entries, 0 to 1067\n",
      "Data columns (total 3 columns):\n",
      " #   Column              Non-Null Count  Dtype  \n",
      "---  ------              --------------  -----  \n",
      " 0   start_ts            1068 non-null   object \n",
      " 1   weather_conditions  1068 non-null   object \n",
      " 2   duration_seconds    1068 non-null   float64\n",
      "dtypes: float64(1), object(2)\n",
      "memory usage: 25.2+ KB\n"
     ]
    }
   ],
   "source": [
    "df_hyp.info()"
   ]
  },
  {
   "cell_type": "code",
   "execution_count": 8,
   "id": "ee62d861-7fca-4813-8515-db447752a8da",
   "metadata": {},
   "outputs": [
    {
     "data": {
      "text/html": [
       "<div>\n",
       "<style scoped>\n",
       "    .dataframe tbody tr th:only-of-type {\n",
       "        vertical-align: middle;\n",
       "    }\n",
       "\n",
       "    .dataframe tbody tr th {\n",
       "        vertical-align: top;\n",
       "    }\n",
       "\n",
       "    .dataframe thead th {\n",
       "        text-align: right;\n",
       "    }\n",
       "</style>\n",
       "<table border=\"1\" class=\"dataframe\">\n",
       "  <thead>\n",
       "    <tr style=\"text-align: right;\">\n",
       "      <th></th>\n",
       "      <th>start_ts</th>\n",
       "      <th>weather_conditions</th>\n",
       "      <th>duration_seconds</th>\n",
       "    </tr>\n",
       "  </thead>\n",
       "  <tbody>\n",
       "    <tr>\n",
       "      <th>0</th>\n",
       "      <td>2017-11-25 16:00:00</td>\n",
       "      <td>Good</td>\n",
       "      <td>2410.0</td>\n",
       "    </tr>\n",
       "    <tr>\n",
       "      <th>1</th>\n",
       "      <td>2017-11-25 14:00:00</td>\n",
       "      <td>Good</td>\n",
       "      <td>1920.0</td>\n",
       "    </tr>\n",
       "    <tr>\n",
       "      <th>2</th>\n",
       "      <td>2017-11-25 12:00:00</td>\n",
       "      <td>Good</td>\n",
       "      <td>1543.0</td>\n",
       "    </tr>\n",
       "    <tr>\n",
       "      <th>3</th>\n",
       "      <td>2017-11-04 10:00:00</td>\n",
       "      <td>Good</td>\n",
       "      <td>2512.0</td>\n",
       "    </tr>\n",
       "    <tr>\n",
       "      <th>4</th>\n",
       "      <td>2017-11-11 07:00:00</td>\n",
       "      <td>Good</td>\n",
       "      <td>1440.0</td>\n",
       "    </tr>\n",
       "  </tbody>\n",
       "</table>\n",
       "</div>"
      ],
      "text/plain": [
       "              start_ts weather_conditions  duration_seconds\n",
       "0  2017-11-25 16:00:00               Good            2410.0\n",
       "1  2017-11-25 14:00:00               Good            1920.0\n",
       "2  2017-11-25 12:00:00               Good            1543.0\n",
       "3  2017-11-04 10:00:00               Good            2512.0\n",
       "4  2017-11-11 07:00:00               Good            1440.0"
      ]
     },
     "execution_count": 8,
     "metadata": {},
     "output_type": "execute_result"
    }
   ],
   "source": [
    "df_hyp.head()"
   ]
  },
  {
   "cell_type": "markdown",
   "id": "f0e5e3a2-5339-47d1-ad69-775d3427f133",
   "metadata": {},
   "source": [
    "**Comentario:**\n",
    "\n",
    "<span style='color:green'> No hay datos ausentes en este dataframe. Los tipos de datos son adecuados. </span>"
   ]
  },
  {
   "cell_type": "code",
   "execution_count": 9,
   "id": "d7126efb-ab11-46dd-82bb-fdfbe9505776",
   "metadata": {},
   "outputs": [
    {
     "name": "stdout",
     "output_type": "stream",
     "text": [
      "<class 'pandas.core.frame.DataFrame'>\n",
      "RangeIndex: 94 entries, 0 to 93\n",
      "Data columns (total 2 columns):\n",
      " #   Column                 Non-Null Count  Dtype \n",
      "---  ------                 --------------  ----- \n",
      " 0   dropoff_location_name  94 non-null     object\n",
      " 1   average_trips          94 non-null     int32 \n",
      "dtypes: int32(1), object(1)\n",
      "memory usage: 1.2+ KB\n"
     ]
    }
   ],
   "source": [
    "# Corrección de datos: cambio a datos 'int' en la columna 'average_trips' del dataframe dropoff_trips\n",
    "# Primero redondeo los valores a su entero más cercano\n",
    "\n",
    "dropoff_trips['average_trips'] = dropoff_trips['average_trips'].round()\n",
    "\n",
    "dropoff_trips = dropoff_trips.astype({'average_trips': 'int32'})\n",
    "\n",
    "dropoff_trips.info()"
   ]
  },
  {
   "cell_type": "code",
   "execution_count": 10,
   "id": "e6b956b1-a6e3-4365-95c3-096f2fdb5077",
   "metadata": {},
   "outputs": [
    {
     "data": {
      "text/plain": [
       "0"
      ]
     },
     "execution_count": 10,
     "metadata": {},
     "output_type": "execute_result"
    }
   ],
   "source": [
    "# Exploración de datos duplicados en dataframe: company_trips\n",
    "\n",
    "company_trips.duplicated().sum()"
   ]
  },
  {
   "cell_type": "code",
   "execution_count": 11,
   "id": "c90ba9b5-8509-445f-9493-b2b372ccf352",
   "metadata": {},
   "outputs": [
    {
     "data": {
      "text/plain": [
       "0"
      ]
     },
     "execution_count": 11,
     "metadata": {},
     "output_type": "execute_result"
    }
   ],
   "source": [
    "# Exploración de datos duplicados en la columna 'company_name'\n",
    "\n",
    "company_trips['company_name'].duplicated().sum()"
   ]
  },
  {
   "cell_type": "markdown",
   "id": "d948f852-a59d-43f4-abe7-c58f34e57d93",
   "metadata": {},
   "source": [
    "<span style='color:green'> No hay datos totalmente duplicados en el dataframe company_trips, ni duplicados en la columna 'company_name' </span>"
   ]
  },
  {
   "cell_type": "code",
   "execution_count": 12,
   "id": "da81dae5-6430-475c-891b-757fb08d0d82",
   "metadata": {},
   "outputs": [
    {
     "data": {
      "text/plain": [
       "0"
      ]
     },
     "execution_count": 12,
     "metadata": {},
     "output_type": "execute_result"
    }
   ],
   "source": [
    "# Exploración de datos duplicados en dataframe: dropoff_trips\n",
    "\n",
    "dropoff_trips.duplicated().sum()"
   ]
  },
  {
   "cell_type": "code",
   "execution_count": 13,
   "id": "25f8c877-f3a9-4473-90ec-45cfa685647d",
   "metadata": {},
   "outputs": [
    {
     "data": {
      "text/plain": [
       "0"
      ]
     },
     "execution_count": 13,
     "metadata": {},
     "output_type": "execute_result"
    }
   ],
   "source": [
    "# Exploración de datos duplicados en la columna 'dropoff_location_name'\n",
    "\n",
    "dropoff_trips['dropoff_location_name'].duplicated().sum()"
   ]
  },
  {
   "cell_type": "markdown",
   "id": "f81861b3-2449-4c37-922e-f291abc2f344",
   "metadata": {},
   "source": [
    "**Comentario:**\n",
    "\n",
    "\n",
    "<span style='color:green'> No hay datos totalmente duplicados en el dataframe dropoff_trips, ni duplicados en la columna 'dropoff_location_name' </span>"
   ]
  },
  {
   "cell_type": "code",
   "execution_count": 14,
   "id": "98c7ed75-9d76-48b7-816e-fb2d0de8f7a2",
   "metadata": {},
   "outputs": [
    {
     "data": {
      "text/plain": [
       "197"
      ]
     },
     "execution_count": 14,
     "metadata": {},
     "output_type": "execute_result"
    }
   ],
   "source": [
    "# Exploración de datos duplicados en dataframe: df_hip\n",
    "\n",
    "df_hyp.duplicated().sum()"
   ]
  },
  {
   "cell_type": "code",
   "execution_count": 15,
   "id": "0d825e10-1247-4f59-910e-6c1954c0115d",
   "metadata": {},
   "outputs": [
    {
     "data": {
      "text/plain": [
       "987"
      ]
     },
     "execution_count": 15,
     "metadata": {},
     "output_type": "execute_result"
    }
   ],
   "source": [
    "# Exploración de datos duplicados en columna 'start_ts'\n",
    "\n",
    "df_hyp['start_ts'].duplicated().sum()"
   ]
  },
  {
   "cell_type": "markdown",
   "id": "dd06985e-46d8-42d1-a742-935abfbdf902",
   "metadata": {},
   "source": [
    "**Comentario:**\n",
    "\n",
    "\n",
    "<span style='color:orange'> Hay 197 datos totalmente duplicados en el dataframe df_hip, y 987 en la columna 'start_ts' </span>\n",
    "\n",
    "<span style='color:blue'> Tiene sentido que existan duplicados, pues varios recorridos, de una sola o de diferentes compañias, pueden comenzar en la misma hora, sobretodo porque la fecha y hora de inicio están truncadas hasta hora y no minutos y segundos. </span>"
   ]
  },
  {
   "cell_type": "markdown",
   "id": "48a2edfb-78d3-4b10-b81b-a3ae432b64c3",
   "metadata": {},
   "source": [
    "### Análisis de datos"
   ]
  },
  {
   "cell_type": "markdown",
   "id": "337f5b33-6ab2-46eb-acd8-1b880f07df0d",
   "metadata": {},
   "source": [
    "#### 10 principales barrios en términos de finalización de recorrido"
   ]
  },
  {
   "cell_type": "code",
   "execution_count": 16,
   "id": "d278bbc2-252b-48aa-a827-a37870d0046c",
   "metadata": {},
   "outputs": [
    {
     "data": {
      "text/html": [
       "<div>\n",
       "<style scoped>\n",
       "    .dataframe tbody tr th:only-of-type {\n",
       "        vertical-align: middle;\n",
       "    }\n",
       "\n",
       "    .dataframe tbody tr th {\n",
       "        vertical-align: top;\n",
       "    }\n",
       "\n",
       "    .dataframe thead th {\n",
       "        text-align: right;\n",
       "    }\n",
       "</style>\n",
       "<table border=\"1\" class=\"dataframe\">\n",
       "  <thead>\n",
       "    <tr style=\"text-align: right;\">\n",
       "      <th></th>\n",
       "      <th>dropoff_location_name</th>\n",
       "      <th>average_trips</th>\n",
       "    </tr>\n",
       "  </thead>\n",
       "  <tbody>\n",
       "    <tr>\n",
       "      <th>0</th>\n",
       "      <td>Loop</td>\n",
       "      <td>10727</td>\n",
       "    </tr>\n",
       "    <tr>\n",
       "      <th>1</th>\n",
       "      <td>River North</td>\n",
       "      <td>9524</td>\n",
       "    </tr>\n",
       "    <tr>\n",
       "      <th>2</th>\n",
       "      <td>Streeterville</td>\n",
       "      <td>6665</td>\n",
       "    </tr>\n",
       "    <tr>\n",
       "      <th>3</th>\n",
       "      <td>West Loop</td>\n",
       "      <td>5164</td>\n",
       "    </tr>\n",
       "    <tr>\n",
       "      <th>4</th>\n",
       "      <td>O'Hare</td>\n",
       "      <td>2547</td>\n",
       "    </tr>\n",
       "    <tr>\n",
       "      <th>...</th>\n",
       "      <td>...</td>\n",
       "      <td>...</td>\n",
       "    </tr>\n",
       "    <tr>\n",
       "      <th>89</th>\n",
       "      <td>Mount Greenwood</td>\n",
       "      <td>3</td>\n",
       "    </tr>\n",
       "    <tr>\n",
       "      <th>90</th>\n",
       "      <td>Hegewisch</td>\n",
       "      <td>3</td>\n",
       "    </tr>\n",
       "    <tr>\n",
       "      <th>91</th>\n",
       "      <td>Burnside</td>\n",
       "      <td>2</td>\n",
       "    </tr>\n",
       "    <tr>\n",
       "      <th>92</th>\n",
       "      <td>East Side</td>\n",
       "      <td>2</td>\n",
       "    </tr>\n",
       "    <tr>\n",
       "      <th>93</th>\n",
       "      <td>Riverdale</td>\n",
       "      <td>2</td>\n",
       "    </tr>\n",
       "  </tbody>\n",
       "</table>\n",
       "<p>94 rows × 2 columns</p>\n",
       "</div>"
      ],
      "text/plain": [
       "   dropoff_location_name  average_trips\n",
       "0                   Loop          10727\n",
       "1            River North           9524\n",
       "2          Streeterville           6665\n",
       "3              West Loop           5164\n",
       "4                 O'Hare           2547\n",
       "..                   ...            ...\n",
       "89       Mount Greenwood              3\n",
       "90             Hegewisch              3\n",
       "91              Burnside              2\n",
       "92             East Side              2\n",
       "93             Riverdale              2\n",
       "\n",
       "[94 rows x 2 columns]"
      ]
     },
     "execution_count": 16,
     "metadata": {},
     "output_type": "execute_result"
    }
   ],
   "source": [
    "# Del dataframe dropoff_trips, ordenaré de forma descendente y seleccionaré las primeros 10 posiciones\n",
    "\n",
    "dropoff_trips.sort_values(by='average_trips', ascending=False)"
   ]
  },
  {
   "cell_type": "code",
   "execution_count": 17,
   "id": "a82508c7-174e-4d97-9b58-3335e6070dc7",
   "metadata": {},
   "outputs": [
    {
     "data": {
      "text/html": [
       "<div>\n",
       "<style scoped>\n",
       "    .dataframe tbody tr th:only-of-type {\n",
       "        vertical-align: middle;\n",
       "    }\n",
       "\n",
       "    .dataframe tbody tr th {\n",
       "        vertical-align: top;\n",
       "    }\n",
       "\n",
       "    .dataframe thead th {\n",
       "        text-align: right;\n",
       "    }\n",
       "</style>\n",
       "<table border=\"1\" class=\"dataframe\">\n",
       "  <thead>\n",
       "    <tr style=\"text-align: right;\">\n",
       "      <th></th>\n",
       "      <th>dropoff_location_name</th>\n",
       "      <th>average_trips</th>\n",
       "    </tr>\n",
       "  </thead>\n",
       "  <tbody>\n",
       "    <tr>\n",
       "      <th>0</th>\n",
       "      <td>Loop</td>\n",
       "      <td>10727</td>\n",
       "    </tr>\n",
       "    <tr>\n",
       "      <th>1</th>\n",
       "      <td>River North</td>\n",
       "      <td>9524</td>\n",
       "    </tr>\n",
       "    <tr>\n",
       "      <th>2</th>\n",
       "      <td>Streeterville</td>\n",
       "      <td>6665</td>\n",
       "    </tr>\n",
       "    <tr>\n",
       "      <th>3</th>\n",
       "      <td>West Loop</td>\n",
       "      <td>5164</td>\n",
       "    </tr>\n",
       "    <tr>\n",
       "      <th>4</th>\n",
       "      <td>O'Hare</td>\n",
       "      <td>2547</td>\n",
       "    </tr>\n",
       "    <tr>\n",
       "      <th>5</th>\n",
       "      <td>Lake View</td>\n",
       "      <td>2421</td>\n",
       "    </tr>\n",
       "    <tr>\n",
       "      <th>6</th>\n",
       "      <td>Grant Park</td>\n",
       "      <td>2069</td>\n",
       "    </tr>\n",
       "    <tr>\n",
       "      <th>7</th>\n",
       "      <td>Museum Campus</td>\n",
       "      <td>1510</td>\n",
       "    </tr>\n",
       "    <tr>\n",
       "      <th>8</th>\n",
       "      <td>Gold Coast</td>\n",
       "      <td>1364</td>\n",
       "    </tr>\n",
       "    <tr>\n",
       "      <th>9</th>\n",
       "      <td>Sheffield &amp; DePaul</td>\n",
       "      <td>1260</td>\n",
       "    </tr>\n",
       "  </tbody>\n",
       "</table>\n",
       "</div>"
      ],
      "text/plain": [
       "  dropoff_location_name  average_trips\n",
       "0                  Loop          10727\n",
       "1           River North           9524\n",
       "2         Streeterville           6665\n",
       "3             West Loop           5164\n",
       "4                O'Hare           2547\n",
       "5             Lake View           2421\n",
       "6            Grant Park           2069\n",
       "7         Museum Campus           1510\n",
       "8            Gold Coast           1364\n",
       "9    Sheffield & DePaul           1260"
      ]
     },
     "execution_count": 17,
     "metadata": {},
     "output_type": "execute_result"
    }
   ],
   "source": [
    "# Selección de los 10 primeros barrios por finalización de recorrido\n",
    "\n",
    "top_10_locations = dropoff_trips.loc[0:9]\n",
    "\n",
    "top_10_locations"
   ]
  },
  {
   "cell_type": "code",
   "execution_count": 18,
   "id": "8fcd772e-0524-44d3-92c6-0713a37986ba",
   "metadata": {},
   "outputs": [
    {
     "data": {
      "image/png": "[encoded data removed]",
      "text/plain": [
       "<Figure size 640x480 with 1 Axes>"
      ]
     },
     "metadata": {},
     "output_type": "display_data"
    }
   ],
   "source": [
    "# Gráfico de los 10 principales barrios por número de finalizaciones\n",
    "\n",
    "sns.barplot(data=top_10_locations, x='dropoff_location_name', y='average_trips')\n",
    "plt.title('10 principales barrios por número de recorridos finalizados')\n",
    "plt.xticks(rotation=80)\n",
    "\n",
    "plt.show()"
   ]
  },
  {
   "cell_type": "markdown",
   "id": "91461d64-a7f3-4329-9e41-f82cdbf51e14",
   "metadata": {},
   "source": [
    "**Comentario:**\n",
    "\n",
    "<span style='color:blue'> El barrio de destino con más viajes durante noviembre de 2017 fue Loop, con más de 10000 viajes, seguido de River North, Streeterville y West Loop. </span>"
   ]
  },
  {
   "cell_type": "markdown",
   "id": "3a1acdd1-fcbf-4f16-9ed0-ab0fdb1f278a",
   "metadata": {},
   "source": [
    "#### Gráfico de compañías de taxis vs recorridos realizados"
   ]
  },
  {
   "cell_type": "code",
   "execution_count": 19,
   "id": "2fc63ee4-67b7-4d52-b6fb-c4c79f8a747c",
   "metadata": {},
   "outputs": [
    {
     "data": {
      "image/png": "[encoded data removed]",
      "text/plain": [
       "<Figure size 1500x300 with 1 Axes>"
      ]
     },
     "metadata": {},
     "output_type": "display_data"
    }
   ],
   "source": [
    "# Para una mejor visualización se seleccionarán las primeras 10 compañías\n",
    "\n",
    "fig, ax = plt.subplots(figsize=(15, 3))  # ajuste del largo del gráfico\n",
    "\n",
    "sns.barplot(data=company_trips.loc[:9], x='company_name', y='trips_amount', ax=ax)\n",
    "plt.title('Top 10 de compañías de taxis por viajes realizados')\n",
    "plt.xticks(rotation=90)\n",
    "\n",
    "plt.show()"
   ]
  },
  {
   "cell_type": "markdown",
   "id": "a9819d6a-ca65-4d3c-ad6d-e2d6c2cb3c53",
   "metadata": {},
   "source": [
    "**Comentario:**\n",
    "\n",
    "<span style='color:blue'> La compañía de taxis con más viajes realizados es Flash Cab, con cerca del doble de viajes realizados por el resto de las 9 compañías del top 10. </span>"
   ]
  },
  {
   "cell_type": "markdown",
   "id": "952c4d57-df07-4a64-9a4c-bd52e1d0d060",
   "metadata": {},
   "source": [
    "## Prueba de hipótesis: \n",
    "\n",
    "### \"La duración promedio de los viajes desde el Loop hasta el Aeropuerto Internacional O'Hare cambia los sábados lluviosos\""
   ]
  },
  {
   "cell_type": "markdown",
   "id": "f26a962e-6e7b-47af-97a3-c1dd24ea0305",
   "metadata": {},
   "source": [
    "1. Para comprobar esta hipótesis, dividire el dataframe df_hyp en dos, de acuerdo a la categoría Good (sin lluvia) y Bad (con lluvia). \n",
    "2. Realizaré una prueba de hipótesis para la igualdad de la media de dos poblaciones independientes, aunque partimos de la misma población, no se especifica que se realizaran la misma cantidad de viajes en cada una de las condiciones meteorológicas."
   ]
  },
  {
   "cell_type": "code",
   "execution_count": 20,
   "id": "f67572d5-18f4-4601-a121-28863d2cb3a5",
   "metadata": {},
   "outputs": [
    {
     "data": {
      "text/plain": [
       "0       2410.0\n",
       "1       1920.0\n",
       "2       1543.0\n",
       "3       2512.0\n",
       "4       1440.0\n",
       "         ...  \n",
       "1062    1500.0\n",
       "1063       0.0\n",
       "1064    1318.0\n",
       "1065    2100.0\n",
       "1066    1380.0\n",
       "Name: duration_seconds, Length: 888, dtype: float64"
      ]
     },
     "execution_count": 20,
     "metadata": {},
     "output_type": "execute_result"
    }
   ],
   "source": [
    "# División del df en dos: uno para buen clima (good_weather) y uno para clima lluvioso (rain)\n",
    "# Extraigo solo la columna con la duración de los viajes\n",
    "\n",
    "good_weather = df_hyp.query('weather_conditions == \"Good\"')['duration_seconds']\n",
    "\n",
    "good_weather"
   ]
  },
  {
   "cell_type": "code",
   "execution_count": 21,
   "id": "e2af8d48-e581-4b25-b692-9c29bebc98ae",
   "metadata": {},
   "outputs": [
    {
     "data": {
      "text/plain": [
       "6       2969.0\n",
       "30      1980.0\n",
       "34      2460.0\n",
       "51      2760.0\n",
       "52      2460.0\n",
       "         ...  \n",
       "1031    2560.0\n",
       "1032    1908.0\n",
       "1053    2400.0\n",
       "1061    2186.0\n",
       "1067    2834.0\n",
       "Name: duration_seconds, Length: 180, dtype: float64"
      ]
     },
     "execution_count": 21,
     "metadata": {},
     "output_type": "execute_result"
    }
   ],
   "source": [
    "rain = df_hyp.query('weather_conditions == \"Bad\"')['duration_seconds']\n",
    "\n",
    "rain"
   ]
  },
  {
   "cell_type": "markdown",
   "id": "f7043078-9509-4277-b7c7-2c1aa742809d",
   "metadata": {},
   "source": [
    "**Comentario:**\n",
    "\n",
    "<span style='color:blue'> El tamaño de los dataframe no es el mismo, por lo tanto, se confirma que no se realizaron los mismos viajes en cada condición meteorológica y por lo tanto son muestras independientes. </span> "
   ]
  },
  {
   "cell_type": "code",
   "execution_count": 22,
   "id": "f60bb65b-198e-4ec1-8abf-a941e9a50306",
   "metadata": {},
   "outputs": [
    {
     "name": "stdout",
     "output_type": "stream",
     "text": [
      "good_weather: 575732.9308497686\n",
      "rain: 517403.56330246915\n"
     ]
    }
   ],
   "source": [
    "# Cálculo de las varianzas\n",
    "\n",
    "print('good_weather:', np.var(good_weather))\n",
    "\n",
    "print('rain:', np.var(rain))"
   ]
  },
  {
   "cell_type": "markdown",
   "id": "4a8e2df7-d6e9-4451-a009-cc6d8fb8f541",
   "metadata": {},
   "source": [
    "**Comentario:**\n",
    "\n",
    "<span style='color:blue'> Las varianzas se ven cercanas, podrías considerarse iguales para la prueba de hipótesis. De cualquier manera, realizaré una prueba de Levene para probarlo. </span> "
   ]
  },
  {
   "cell_type": "code",
   "execution_count": 23,
   "id": "639066cb-9487-4729-8bf0-38d186b52449",
   "metadata": {},
   "outputs": [
    {
     "name": "stdout",
     "output_type": "stream",
     "text": [
      "valor p: 0.5332038671974493\n",
      "No podemos rechazar la hipótesis nula: las varianzas son iguales\n"
     ]
    }
   ],
   "source": [
    "# Prueba de Levene\n",
    "\n",
    "# H0: las varianzas son iguales\n",
    "# H1: las varianzas son diferentes\n",
    "\n",
    "alpha = 0.05\n",
    "\n",
    "results = st.levene(good_weather, rain)\n",
    "\n",
    "print('valor p:', results.pvalue)\n",
    "\n",
    "if results.pvalue > alpha:\n",
    "    print('No podemos rechazar la hipótesis nula: las varianzas son iguales')\n",
    "else:\n",
    "    print('Se rechaza la hipótesis nula: las varianzas son diferentes')"
   ]
  },
  {
   "cell_type": "code",
   "execution_count": 24,
   "id": "d2dd8805-b736-49a9-b164-4aa356628af8",
   "metadata": {},
   "outputs": [
    {
     "name": "stdout",
     "output_type": "stream",
     "text": [
      "valor p: 6.517970327099473e-12\n",
      "Se rechaza la hipótesis nula. La duración promedio de los viajes desde el Loop hasta el Aeropuerto Internacional O'Hare sí cambia los sábados lluviosos\n"
     ]
    }
   ],
   "source": [
    "# Prueba de hipótesis para la igualdad de medias de dos poblaciones independientes\n",
    "\n",
    "# H0: La duración promedio de los viajes desde el Loop hasta el Aeropuerto Internacional O'Hare no cambia los sábados lluviosos\n",
    "# H1: La duración promedio de los viajes desde el Loop hasta el Aeropuerto Internacional O'Hare sí cambia los sábados lluviosos\n",
    "\n",
    "alpha = 0.05\n",
    "\n",
    "results = st.ttest_ind(good_weather, rain)  # equal_var predeterminado (True)\n",
    "\n",
    "print('valor p:', results.pvalue)\n",
    "\n",
    "if results.pvalue > alpha:\n",
    "    print(\"No podemos rechazar la hipótesis nula. La duración promedio de los viajes desde el Loop hasta el Aeropuerto Internacional O'Hare no cambia los sábados lluviosos\")\n",
    "else:\n",
    "    print(\"Se rechaza la hipótesis nula. La duración promedio de los viajes desde el Loop hasta el Aeropuerto Internacional O'Hare sí cambia los sábados lluviosos\")"
   ]
  },
  {
   "cell_type": "markdown",
   "id": "fdfa576b-b1ee-4bd4-b81b-d2001d14b5e0",
   "metadata": {},
   "source": [
    "**Comentario:**\n",
    "\n",
    "<span style='color:blue'> La duración promedio de los viajes desde el Loop hasta el Aeropuerto Internacional O'Hare sí cambia los sábados lluviosos \n",
    "</span>"
   ]
  },
  {
   "cell_type": "markdown",
   "id": "cf84d621-75d0-4bfd-a12a-f8af4a8d7146",
   "metadata": {},
   "source": [
    "## Conclusiones"
   ]
  },
  {
   "cell_type": "markdown",
   "id": "7bf42f7f-ef5b-40fd-9471-26e80642a945",
   "metadata": {},
   "source": [
    "<span style='color:blue'> \n",
    "\n",
    "- En noviembre de 2017, el barrio con mayores viajes finalizados fue Loop, el distrito central de negocios de Chicago.\n",
    "    \n",
    "- La compañia con mayores viajes realizados, entre el 15 y 16 de noviembre de 2017, fue Flash Cab, con cerca del doble de viajes realizados que las compañias en 2o y 3er lugar del ranking.\n",
    "  \n",
    "- Los sábados lluviosos, la duración promedio de los viajes desde Loop hasta el Aeropuerto Internacional O'Hare sí cambia.\n",
    "\n",
    "</span>"
   ]
  }
 ],
 "metadata": {
  "ExecuteTimeLog": [
   {
    "duration": 4958,
    "start_time": "2024-07-21T02:22:59.277Z"
   },
   {
    "duration": 1125,
    "start_time": "2024-07-21T02:23:04.239Z"
   },
   {
    "duration": 0,
    "start_time": "2024-07-21T02:23:05.369Z"
   },
   {
    "duration": 0,
    "start_time": "2024-07-21T02:23:05.372Z"
   },
   {
    "duration": 0,
    "start_time": "2024-07-21T02:23:05.374Z"
   },
   {
    "duration": 0,
    "start_time": "2024-07-21T02:23:05.375Z"
   },
   {
    "duration": 0,
    "start_time": "2024-07-21T02:23:05.379Z"
   },
   {
    "duration": 0,
    "start_time": "2024-07-21T02:23:05.381Z"
   },
   {
    "duration": 0,
    "start_time": "2024-07-21T02:23:05.384Z"
   },
   {
    "duration": 0,
    "start_time": "2024-07-21T02:23:05.386Z"
   },
   {
    "duration": 0,
    "start_time": "2024-07-21T02:23:05.388Z"
   },
   {
    "duration": 0,
    "start_time": "2024-07-21T02:23:05.390Z"
   },
   {
    "duration": 0,
    "start_time": "2024-07-21T02:23:05.393Z"
   },
   {
    "duration": 0,
    "start_time": "2024-07-21T02:23:05.433Z"
   },
   {
    "duration": 0,
    "start_time": "2024-07-21T02:23:05.436Z"
   },
   {
    "duration": 0,
    "start_time": "2024-07-21T02:23:05.438Z"
   },
   {
    "duration": 0,
    "start_time": "2024-07-21T02:23:05.440Z"
   },
   {
    "duration": 0,
    "start_time": "2024-07-21T02:23:05.442Z"
   },
   {
    "duration": 0,
    "start_time": "2024-07-21T02:23:05.444Z"
   },
   {
    "duration": 0,
    "start_time": "2024-07-21T02:23:05.447Z"
   },
   {
    "duration": 0,
    "start_time": "2024-07-21T02:23:05.449Z"
   },
   {
    "duration": 0,
    "start_time": "2024-07-21T02:23:05.451Z"
   },
   {
    "duration": 0,
    "start_time": "2024-07-21T02:23:05.454Z"
   },
   {
    "duration": 0,
    "start_time": "2024-07-21T02:23:05.456Z"
   },
   {
    "duration": 19,
    "start_time": "2024-07-21T02:27:58.048Z"
   },
   {
    "duration": 5160,
    "start_time": "2024-07-21T21:48:38.672Z"
   },
   {
    "duration": 30,
    "start_time": "2024-07-21T21:48:47.053Z"
   },
   {
    "duration": 1308,
    "start_time": "2024-07-21T21:49:18.736Z"
   },
   {
    "duration": 17,
    "start_time": "2024-07-21T21:49:20.047Z"
   },
   {
    "duration": 16,
    "start_time": "2024-07-21T21:49:20.067Z"
   },
   {
    "duration": 15,
    "start_time": "2024-07-21T21:49:20.111Z"
   },
   {
    "duration": 15,
    "start_time": "2024-07-21T21:49:20.130Z"
   },
   {
    "duration": 12,
    "start_time": "2024-07-21T21:49:20.148Z"
   },
   {
    "duration": 53,
    "start_time": "2024-07-21T21:49:20.163Z"
   },
   {
    "duration": 11,
    "start_time": "2024-07-21T21:49:20.223Z"
   },
   {
    "duration": 16,
    "start_time": "2024-07-21T21:49:20.237Z"
   },
   {
    "duration": 50,
    "start_time": "2024-07-21T21:49:20.260Z"
   },
   {
    "duration": 10,
    "start_time": "2024-07-21T21:49:20.313Z"
   },
   {
    "duration": 12,
    "start_time": "2024-07-21T21:49:20.326Z"
   },
   {
    "duration": 8,
    "start_time": "2024-07-21T21:49:20.341Z"
   },
   {
    "duration": 10,
    "start_time": "2024-07-21T21:49:20.353Z"
   },
   {
    "duration": 44,
    "start_time": "2024-07-21T21:49:20.366Z"
   },
   {
    "duration": 16,
    "start_time": "2024-07-21T21:49:20.414Z"
   },
   {
    "duration": 13,
    "start_time": "2024-07-21T21:49:20.433Z"
   },
   {
    "duration": 904,
    "start_time": "2024-07-21T21:49:20.450Z"
   },
   {
    "duration": 0,
    "start_time": "2024-07-21T21:49:21.357Z"
   },
   {
    "duration": 0,
    "start_time": "2024-07-21T21:49:21.362Z"
   },
   {
    "duration": 0,
    "start_time": "2024-07-21T21:49:21.364Z"
   },
   {
    "duration": 0,
    "start_time": "2024-07-21T21:49:21.366Z"
   },
   {
    "duration": 0,
    "start_time": "2024-07-21T21:49:21.367Z"
   },
   {
    "duration": 0,
    "start_time": "2024-07-21T21:49:21.370Z"
   },
   {
    "duration": 51,
    "start_time": "2024-07-21T21:51:12.876Z"
   },
   {
    "duration": 1998,
    "start_time": "2024-07-21T21:52:15.047Z"
   },
   {
    "duration": 211,
    "start_time": "2024-07-21T21:52:44.240Z"
   },
   {
    "duration": 273,
    "start_time": "2024-07-21T21:53:05.438Z"
   },
   {
    "duration": 1238,
    "start_time": "2024-07-21T21:53:28.124Z"
   },
   {
    "duration": 18,
    "start_time": "2024-07-21T21:53:29.367Z"
   },
   {
    "duration": 33,
    "start_time": "2024-07-21T21:53:29.389Z"
   },
   {
    "duration": 20,
    "start_time": "2024-07-21T21:53:29.424Z"
   },
   {
    "duration": 13,
    "start_time": "2024-07-21T21:53:29.448Z"
   },
   {
    "duration": 11,
    "start_time": "2024-07-21T21:53:29.464Z"
   },
   {
    "duration": 37,
    "start_time": "2024-07-21T21:53:29.477Z"
   },
   {
    "duration": 22,
    "start_time": "2024-07-21T21:53:29.518Z"
   },
   {
    "duration": 17,
    "start_time": "2024-07-21T21:53:29.543Z"
   },
   {
    "duration": 7,
    "start_time": "2024-07-21T21:53:29.563Z"
   },
   {
    "duration": 57,
    "start_time": "2024-07-21T21:53:29.573Z"
   },
   {
    "duration": 9,
    "start_time": "2024-07-21T21:53:29.633Z"
   },
   {
    "duration": 7,
    "start_time": "2024-07-21T21:53:29.646Z"
   },
   {
    "duration": 7,
    "start_time": "2024-07-21T21:53:29.659Z"
   },
   {
    "duration": 6,
    "start_time": "2024-07-21T21:53:29.669Z"
   },
   {
    "duration": 43,
    "start_time": "2024-07-21T21:53:29.679Z"
   },
   {
    "duration": 10,
    "start_time": "2024-07-21T21:53:29.725Z"
   },
   {
    "duration": 308,
    "start_time": "2024-07-21T21:53:29.738Z"
   },
   {
    "duration": 2056,
    "start_time": "2024-07-21T21:53:30.049Z"
   },
   {
    "duration": 16,
    "start_time": "2024-07-21T21:53:32.108Z"
   },
   {
    "duration": 14,
    "start_time": "2024-07-21T21:53:32.131Z"
   },
   {
    "duration": 6,
    "start_time": "2024-07-21T21:53:32.149Z"
   },
   {
    "duration": 8,
    "start_time": "2024-07-21T21:53:32.158Z"
   },
   {
    "duration": 6,
    "start_time": "2024-07-21T21:53:32.169Z"
   },
   {
    "duration": 1278,
    "start_time": "2024-07-21T22:02:53.776Z"
   },
   {
    "duration": 16,
    "start_time": "2024-07-21T22:02:55.058Z"
   },
   {
    "duration": 15,
    "start_time": "2024-07-21T22:02:55.076Z"
   },
   {
    "duration": 17,
    "start_time": "2024-07-21T22:02:55.108Z"
   },
   {
    "duration": 13,
    "start_time": "2024-07-21T22:02:55.129Z"
   },
   {
    "duration": 10,
    "start_time": "2024-07-21T22:02:55.146Z"
   },
   {
    "duration": 57,
    "start_time": "2024-07-21T22:02:55.159Z"
   },
   {
    "duration": 12,
    "start_time": "2024-07-21T22:02:55.219Z"
   },
   {
    "duration": 15,
    "start_time": "2024-07-21T22:02:55.234Z"
   },
   {
    "duration": 7,
    "start_time": "2024-07-21T22:02:55.252Z"
   },
   {
    "duration": 47,
    "start_time": "2024-07-21T22:02:55.263Z"
   },
   {
    "duration": 8,
    "start_time": "2024-07-21T22:02:55.313Z"
   },
   {
    "duration": 7,
    "start_time": "2024-07-21T22:02:55.325Z"
   },
   {
    "duration": 8,
    "start_time": "2024-07-21T22:02:55.337Z"
   },
   {
    "duration": 6,
    "start_time": "2024-07-21T22:02:55.348Z"
   },
   {
    "duration": 16,
    "start_time": "2024-07-21T22:02:55.408Z"
   },
   {
    "duration": 10,
    "start_time": "2024-07-21T22:02:55.427Z"
   },
   {
    "duration": 313,
    "start_time": "2024-07-21T22:02:55.440Z"
   },
   {
    "duration": 1981,
    "start_time": "2024-07-21T22:02:55.756Z"
   },
   {
    "duration": 14,
    "start_time": "2024-07-21T22:02:57.740Z"
   },
   {
    "duration": 10,
    "start_time": "2024-07-21T22:02:57.757Z"
   },
   {
    "duration": 6,
    "start_time": "2024-07-21T22:02:57.770Z"
   },
   {
    "duration": 7,
    "start_time": "2024-07-21T22:02:57.779Z"
   },
   {
    "duration": 7,
    "start_time": "2024-07-21T22:02:57.808Z"
   },
   {
    "duration": 1367,
    "start_time": "2024-07-22T03:52:02.116Z"
   },
   {
    "duration": 27,
    "start_time": "2024-07-22T03:52:03.487Z"
   },
   {
    "duration": 17,
    "start_time": "2024-07-22T03:52:03.518Z"
   },
   {
    "duration": 31,
    "start_time": "2024-07-22T03:52:03.541Z"
   },
   {
    "duration": 14,
    "start_time": "2024-07-22T03:52:03.576Z"
   },
   {
    "duration": 13,
    "start_time": "2024-07-22T03:52:03.594Z"
   },
   {
    "duration": 15,
    "start_time": "2024-07-22T03:52:03.611Z"
   },
   {
    "duration": 17,
    "start_time": "2024-07-22T03:52:03.669Z"
   },
   {
    "duration": 30,
    "start_time": "2024-07-22T03:52:03.690Z"
   },
   {
    "duration": 8,
    "start_time": "2024-07-22T03:52:03.726Z"
   },
   {
    "duration": 32,
    "start_time": "2024-07-22T03:52:03.737Z"
   },
   {
    "duration": 9,
    "start_time": "2024-07-22T03:52:03.773Z"
   },
   {
    "duration": 9,
    "start_time": "2024-07-22T03:52:03.786Z"
   },
   {
    "duration": 11,
    "start_time": "2024-07-22T03:52:03.798Z"
   },
   {
    "duration": 56,
    "start_time": "2024-07-22T03:52:03.812Z"
   },
   {
    "duration": 18,
    "start_time": "2024-07-22T03:52:03.873Z"
   },
   {
    "duration": 13,
    "start_time": "2024-07-22T03:52:03.894Z"
   },
   {
    "duration": 369,
    "start_time": "2024-07-22T03:52:03.912Z"
   },
   {
    "duration": 2175,
    "start_time": "2024-07-22T03:52:04.289Z"
   },
   {
    "duration": 15,
    "start_time": "2024-07-22T03:52:06.469Z"
   },
   {
    "duration": 12,
    "start_time": "2024-07-22T03:52:06.487Z"
   },
   {
    "duration": 7,
    "start_time": "2024-07-22T03:52:06.503Z"
   },
   {
    "duration": 9,
    "start_time": "2024-07-22T03:52:06.514Z"
   },
   {
    "duration": 9,
    "start_time": "2024-07-22T03:52:06.568Z"
   },
   {
    "duration": 4,
    "start_time": "2024-07-22T03:55:09.704Z"
   },
   {
    "duration": 19,
    "start_time": "2024-07-22T03:55:09.711Z"
   },
   {
    "duration": 14,
    "start_time": "2024-07-22T03:55:09.732Z"
   },
   {
    "duration": 16,
    "start_time": "2024-07-22T03:55:09.751Z"
   },
   {
    "duration": 13,
    "start_time": "2024-07-22T03:55:09.770Z"
   },
   {
    "duration": 11,
    "start_time": "2024-07-22T03:55:09.786Z"
   },
   {
    "duration": 15,
    "start_time": "2024-07-22T03:55:09.800Z"
   },
   {
    "duration": 56,
    "start_time": "2024-07-22T03:55:09.819Z"
   },
   {
    "duration": 15,
    "start_time": "2024-07-22T03:55:09.882Z"
   },
   {
    "duration": 12,
    "start_time": "2024-07-22T03:55:09.900Z"
   },
   {
    "duration": 6,
    "start_time": "2024-07-22T03:55:09.915Z"
   },
   {
    "duration": 49,
    "start_time": "2024-07-22T03:55:09.924Z"
   },
   {
    "duration": 10,
    "start_time": "2024-07-22T03:55:09.975Z"
   },
   {
    "duration": 9,
    "start_time": "2024-07-22T03:55:09.988Z"
   },
   {
    "duration": 6,
    "start_time": "2024-07-22T03:55:10.002Z"
   },
   {
    "duration": 61,
    "start_time": "2024-07-22T03:55:10.011Z"
   },
   {
    "duration": 11,
    "start_time": "2024-07-22T03:55:10.074Z"
   },
   {
    "duration": 289,
    "start_time": "2024-07-22T03:55:10.088Z"
   },
   {
    "duration": 1894,
    "start_time": "2024-07-22T03:55:10.381Z"
   },
   {
    "duration": 12,
    "start_time": "2024-07-22T03:55:12.279Z"
   },
   {
    "duration": 12,
    "start_time": "2024-07-22T03:55:12.294Z"
   },
   {
    "duration": 5,
    "start_time": "2024-07-22T03:55:12.309Z"
   },
   {
    "duration": 51,
    "start_time": "2024-07-22T03:55:12.317Z"
   },
   {
    "duration": 6,
    "start_time": "2024-07-22T03:55:12.375Z"
   },
   {
    "duration": 5052,
    "start_time": "2024-07-22T06:12:46.752Z"
   },
   {
    "duration": 27,
    "start_time": "2024-07-22T06:12:51.808Z"
   },
   {
    "duration": 14,
    "start_time": "2024-07-22T06:12:51.838Z"
   },
   {
    "duration": 21,
    "start_time": "2024-07-22T06:12:51.857Z"
   },
   {
    "duration": 15,
    "start_time": "2024-07-22T06:12:51.881Z"
   },
   {
    "duration": 14,
    "start_time": "2024-07-22T06:12:51.898Z"
   },
   {
    "duration": 55,
    "start_time": "2024-07-22T06:12:51.915Z"
   },
   {
    "duration": 13,
    "start_time": "2024-07-22T06:12:51.973Z"
   },
   {
    "duration": 17,
    "start_time": "2024-07-22T06:12:51.989Z"
   },
   {
    "duration": 7,
    "start_time": "2024-07-22T06:12:52.011Z"
   },
   {
    "duration": 50,
    "start_time": "2024-07-22T06:12:52.021Z"
   },
   {
    "duration": 8,
    "start_time": "2024-07-22T06:12:52.075Z"
   },
   {
    "duration": 7,
    "start_time": "2024-07-22T06:12:52.087Z"
   },
   {
    "duration": 9,
    "start_time": "2024-07-22T06:12:52.099Z"
   },
   {
    "duration": 7,
    "start_time": "2024-07-22T06:12:52.112Z"
   },
   {
    "duration": 17,
    "start_time": "2024-07-22T06:12:52.170Z"
   },
   {
    "duration": 10,
    "start_time": "2024-07-22T06:12:52.190Z"
   },
   {
    "duration": 322,
    "start_time": "2024-07-22T06:12:52.203Z"
   },
   {
    "duration": 332,
    "start_time": "2024-07-22T06:12:52.528Z"
   },
   {
    "duration": 13,
    "start_time": "2024-07-22T06:12:52.867Z"
   },
   {
    "duration": 10,
    "start_time": "2024-07-22T06:12:52.886Z"
   },
   {
    "duration": 6,
    "start_time": "2024-07-22T06:12:52.899Z"
   },
   {
    "duration": 8,
    "start_time": "2024-07-22T06:12:52.908Z"
   },
   {
    "duration": 51,
    "start_time": "2024-07-22T06:12:52.919Z"
   },
   {
    "duration": 334,
    "start_time": "2024-07-22T06:14:17.701Z"
   },
   {
    "duration": 355,
    "start_time": "2024-07-22T06:14:25.017Z"
   },
   {
    "duration": 1272,
    "start_time": "2024-07-22T06:15:13.499Z"
   },
   {
    "duration": 19,
    "start_time": "2024-07-22T06:15:14.775Z"
   },
   {
    "duration": 17,
    "start_time": "2024-07-22T06:15:14.797Z"
   },
   {
    "duration": 15,
    "start_time": "2024-07-22T06:15:14.819Z"
   },
   {
    "duration": 16,
    "start_time": "2024-07-22T06:15:14.869Z"
   },
   {
    "duration": 12,
    "start_time": "2024-07-22T06:15:14.888Z"
   },
   {
    "duration": 14,
    "start_time": "2024-07-22T06:15:14.903Z"
   },
   {
    "duration": 52,
    "start_time": "2024-07-22T06:15:14.920Z"
   },
   {
    "duration": 20,
    "start_time": "2024-07-22T06:15:14.975Z"
   },
   {
    "duration": 8,
    "start_time": "2024-07-22T06:15:15.002Z"
   },
   {
    "duration": 7,
    "start_time": "2024-07-22T06:15:15.014Z"
   },
   {
    "duration": 7,
    "start_time": "2024-07-22T06:15:15.068Z"
   },
   {
    "duration": 7,
    "start_time": "2024-07-22T06:15:15.079Z"
   },
   {
    "duration": 8,
    "start_time": "2024-07-22T06:15:15.090Z"
   },
   {
    "duration": 7,
    "start_time": "2024-07-22T06:15:15.101Z"
   },
   {
    "duration": 70,
    "start_time": "2024-07-22T06:15:15.111Z"
   },
   {
    "duration": 12,
    "start_time": "2024-07-22T06:15:15.184Z"
   },
   {
    "duration": 315,
    "start_time": "2024-07-22T06:15:15.199Z"
   },
   {
    "duration": 356,
    "start_time": "2024-07-22T06:15:15.517Z"
   },
   {
    "duration": 15,
    "start_time": "2024-07-22T06:15:15.876Z"
   },
   {
    "duration": 16,
    "start_time": "2024-07-22T06:15:15.895Z"
   },
   {
    "duration": 7,
    "start_time": "2024-07-22T06:15:15.915Z"
   },
   {
    "duration": 45,
    "start_time": "2024-07-22T06:15:15.927Z"
   },
   {
    "duration": 71,
    "start_time": "2024-07-22T06:15:15.976Z"
   }
  ],
  "kernelspec": {
   "display_name": "Python 3 (ipykernel)",
   "language": "python",
   "name": "python3"
  },
  "language_info": {
   "codemirror_mode": {
    "name": "ipython",
    "version": 3
   },
   "file_extension": ".py",
   "mimetype": "text/x-python",
   "name": "python",
   "nbconvert_exporter": "python",
   "pygments_lexer": "ipython3",
   "version": "3.9.19"
  },
  "toc": {
   "base_numbering": 1,
   "nav_menu": {},
   "number_sections": true,
   "sideBar": true,
   "skip_h1_title": true,
   "title_cell": "Table of Contents",
   "title_sidebar": "Contents",
   "toc_cell": false,
   "toc_position": {},
   "toc_section_display": true,
   "toc_window_display": false
  }
 },
 "nbformat": 4,
 "nbformat_minor": 5
}
